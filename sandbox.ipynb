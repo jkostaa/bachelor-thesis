{
 "cells": [
  {
   "cell_type": "code",
   "execution_count": 24,
   "id": "d66754b5",
   "metadata": {},
   "outputs": [
    {
     "name": "stdout",
     "output_type": "stream",
     "text": [
      "------------------------\n",
      "[[1 1 1 1 1 1 1 1]\n",
      " [1 1 1 1 1 1 1 1]\n",
      " [1 1 1 1 1 1 1 1]\n",
      " [1 1 1 1 1 1 1 1]\n",
      " [1 1 1 1 1 1 1 1]\n",
      " [1 1 1 1 1 1 1 1]\n",
      " [1 1 1 1 1 1 1 1]\n",
      " [1 1 1 1 1 1 1 1]]\n",
      "------------------------\n",
      "[[1 0 1 1 1 0 1 1]\n",
      " [1 0 1 1 1 0 1 1]\n",
      " [1 0 1 1 1 0 1 1]\n",
      " [1 0 1 1 1 0 1 1]\n",
      " [1 0 1 1 1 0 1 1]\n",
      " [1 0 1 1 1 0 1 1]\n",
      " [1 0 1 1 1 0 1 1]\n",
      " [1 0 1 1 1 0 1 1]]\n",
      "----------------------\n"
     ]
    }
   ],
   "source": [
    "import numpy as np\n",
    "\n",
    "#x = np.array([\n",
    "#    [1, 2, 3],\n",
    "#    [4, 5, 6],\n",
    "#    [7, 8, 9]\n",
    "#])\n",
    "\n",
    "\n",
    "def return_zeros(array):\n",
    "\treturn np.zeros_like(array)\n",
    "    \n",
    "#print(return_zeros(x))\n",
    "\n",
    "M = np.zeros((16, 16))\n",
    "#M[::4, :] = 1\n",
    "\n",
    "def sample_every_4th_row(A):\n",
    "\tA[::4, :] = 0.25\n",
    "\treturn A\n",
    "\n",
    "\n",
    "def create_random_matrix(x, step, seed=None):\n",
    "    \"\"\"\n",
    "    Create a mask that samples every 'stride'-th column.\n",
    "\n",
    "    Parameters:\n",
    "    - x: (n,m) matrix\n",
    "    - stride: how often to keep a column (e.g., 4 keeps every 4th)\n",
    "\n",
    "    Returns:\n",
    "    - mask: binary mask with 0s in sampled columns\n",
    "    \"\"\"\n",
    "    \n",
    "    if seed is not None:\n",
    "        np.random.seed(seed)\n",
    "    \n",
    "    rows, cols = x.shape\n",
    "    masked_matrix = np.copy(x)\n",
    "    \n",
    "    for j in range(1, cols, step):\n",
    "        masked_matrix[:, j] = 0\n",
    "    \t\n",
    "    return masked_matrix\n",
    "    \n",
    "x3 = np.ones((8,8), dtype=int)\n",
    "#x4 = np.random.rand(2,2)\n",
    "#print(x4)\n",
    "print('------------------------')\n",
    "print(x3)\n",
    "print('------------------------')\n",
    "#matrix = create_random_matrix((16,16))\n",
    "\n",
    "#print(matrix.shape)\n",
    "#print(matrix[:, 0])\n",
    "print(create_random_matrix(x3, 4))\n",
    "print('----------------------')\n",
    "#print(x4 @ create_column_mask(x4, 2))"
   ]
  }
 ],
 "metadata": {
  "kernelspec": {
   "display_name": "Python 3",
   "language": "python",
   "name": "python3"
  },
  "language_info": {
   "codemirror_mode": {
    "name": "ipython",
    "version": 3
   },
   "file_extension": ".py",
   "mimetype": "text/x-python",
   "name": "python",
   "nbconvert_exporter": "python",
   "pygments_lexer": "ipython3",
   "version": "3.13.5"
  }
 },
 "nbformat": 4,
 "nbformat_minor": 5
}
